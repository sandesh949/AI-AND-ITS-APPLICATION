{
  "cells": [
    {
      "cell_type": "markdown",
      "metadata": {
        "id": "view-in-github",
        "colab_type": "text"
      },
      "source": [
        "<a href=\"https://colab.research.google.com/github/sandesh949/AI-AND-ITS-APPLICATION/blob/main/code_of_final_exam.ipynb\" target=\"_parent\"><img src=\"https://colab.research.google.com/assets/colab-badge.svg\" alt=\"Open In Colab\"/></a>"
      ]
    },
    {
      "cell_type": "code",
      "execution_count": null,
      "metadata": {
        "id": "ihKwjmEg92z2",
        "colab": {
          "base_uri": "https://localhost:8080/"
        },
        "outputId": "648ba188-4112-4d10-aa7c-a5678fa16a8b"
      },
      "outputs": [
        {
          "output_type": "stream",
          "name": "stdout",
          "text": [
            "5\n"
          ]
        }
      ],
      "source": [
        "def add_two_numbers(a,b):\n",
        "    return a+b\n",
        "print(add_two_numbers(2,3))\n",
        "\n",
        "\n",
        "\n"
      ]
    },
    {
      "cell_type": "code",
      "execution_count": null,
      "metadata": {
        "id": "bRT-NA6S_FES",
        "colab": {
          "base_uri": "https://localhost:8080/"
        },
        "outputId": "4bb12213-95e4-4f03-f5e1-c5f5df6914a2"
      },
      "outputs": [
        {
          "output_type": "stream",
          "name": "stdout",
          "text": [
            "1\n",
            "2\n",
            "3\n",
            "4\n",
            "5\n"
          ]
        }
      ],
      "source": [
        "# creating a Python script that creates a list of numbers from 1 to5 and prints each number on a new line\n",
        "numbers = [1, 2, 3, 4, 5]\n",
        "for number in numbers:\n",
        "    print(number)"
      ]
    },
    {
      "cell_type": "code",
      "execution_count": null,
      "metadata": {
        "id": "jbk5PK-rAyEy",
        "colab": {
          "base_uri": "https://localhost:8080/"
        },
        "outputId": "a4a1b4a2-60b5-4cf0-d223-9c4d99478c2d"
      },
      "outputs": [
        {
          "output_type": "stream",
          "name": "stdout",
          "text": [
            "[1, 2, 3]\n"
          ]
        }
      ],
      "source": [
        "# creating a Python function named get_first_three that takes alist and returns a new list with only the first three elements.\n",
        "def get_first_three(list):\n",
        "    return list[0:3]\n",
        "print(get_first_three([1, 2, 3, 4, 5]))\n",
        "\n"
      ]
    },
    {
      "cell_type": "code",
      "execution_count": null,
      "metadata": {
        "id": "Q6GHvyaxib2h",
        "colab": {
          "base_uri": "https://localhost:8080/"
        },
        "outputId": "058abb5f-ae92-45cc-dfb6-cb22684101cc"
      },
      "outputs": [
        {
          "output_type": "stream",
          "name": "stdout",
          "text": [
            "5\n"
          ]
        }
      ],
      "source": [
        "#creating a Python function named count_numbers that takes a list of numbers and returns how many numbers are in the list.\n",
        "def count_numbers(list):\n",
        "    return len(list)\n",
        "print(count_numbers([1, 2, 3, 4, 5]))\n"
      ]
    },
    {
      "cell_type": "code",
      "execution_count": null,
      "metadata": {
        "id": "ZFKtOvx-jFI3"
      },
      "outputs": [],
      "source": [
        "# creating a Python function named multiply_list that takes alist of numbers and a number n, and returns a new list where each elementis multiplied by n.\n",
        "def multiply_list(list, n):\n",
        "    new_list = []\n",
        "    for number in list:\n",
        "        new_list.append(number * n)\n",
        "    return new_list\n",
        "\n",
        "\n"
      ]
    },
    {
      "cell_type": "code",
      "execution_count": null,
      "metadata": {
        "id": "UwR2eClrpgww",
        "colab": {
          "base_uri": "https://localhost:8080/"
        },
        "outputId": "518e9909-c63a-4a3d-ff42-1cced0d9f61f"
      },
      "outputs": [
        {
          "output_type": "stream",
          "name": "stdout",
          "text": [
            "True\n"
          ]
        }
      ],
      "source": [
        "def is_odd(num):\n",
        "    return num % 2 != 0\n",
        "print(is_odd(5))\n",
        "\n",
        "\n",
        "\n"
      ]
    },
    {
      "cell_type": "code",
      "execution_count": null,
      "metadata": {
        "id": "tGoveFSxp0pv",
        "colab": {
          "base_uri": "https://localhost:8080/"
        },
        "outputId": "4c0b7089-26b2-4fa5-bd12-13e64791c446"
      },
      "outputs": [
        {
          "output_type": "stream",
          "name": "stdout",
          "text": [
            "10\n",
            "9\n",
            "8\n",
            "7\n",
            "6\n",
            "5\n",
            "4\n",
            "3\n",
            "2\n",
            "1\n"
          ]
        }
      ],
      "source": [
        "# creating a Python script that prints the numbers from 10 to 1 in descending order.\n",
        "def print_numbers():\n",
        "    for i in range(10, 0, -1):\n",
        "        print(i)\n",
        "print_numbers()\n",
        "\n"
      ]
    },
    {
      "cell_type": "code",
      "execution_count": null,
      "metadata": {
        "id": "rLVVLHp9rLig",
        "colab": {
          "base_uri": "https://localhost:8080/"
        },
        "outputId": "edcb9909-eba9-47f1-f033-dea6748a648c"
      },
      "outputs": [
        {
          "output_type": "stream",
          "name": "stdout",
          "text": [
            "1\n"
          ]
        }
      ],
      "source": [
        "# creating a Python function named min_of_three that takes three numbers and returns the smallest one.\n",
        "def min_of_three(a, b, c):\n",
        "    return min(a, b, c)\n",
        "print(min_of_three(1, 2, 3))"
      ]
    },
    {
      "cell_type": "code",
      "execution_count": null,
      "metadata": {
        "id": "K023wiFtBVJY",
        "colab": {
          "base_uri": "https://localhost:8080/"
        },
        "outputId": "aaa0d8b8-cc61-404e-b532-bb6310e03231"
      },
      "outputs": [
        {
          "output_type": "stream",
          "name": "stdout",
          "text": [
            "120\n"
          ]
        }
      ],
      "source": [
        "# creating a Python function named product_list that takes a listof numbers and returns their product.\n",
        "def product_list(list):\n",
        "    product = 1\n",
        "    for number in list:\n",
        "        product *= number\n",
        "    return product\n",
        "print(product_list([1, 2, 3, 4, 5]))\n"
      ]
    },
    {
      "cell_type": "code",
      "execution_count": null,
      "metadata": {
        "colab": {
          "base_uri": "https://localhost:8080/"
        },
        "id": "GzBRL5vFC877",
        "outputId": "3e2b3cad-88b5-4fbc-84a4-830faa447809"
      },
      "outputs": [
        {
          "output_type": "stream",
          "name": "stdout",
          "text": [
            "Enter a string: 1\n",
            "1\n",
            "1\n",
            "1\n"
          ]
        }
      ],
      "source": [
        "# creating a Python script that takes a string from the user and prints it three times.\n",
        "string = input(\"Enter a string: \")\n",
        "for i in range(3):\n",
        "    print(string)\n"
      ]
    },
    {
      "cell_type": "code",
      "execution_count": null,
      "metadata": {
        "colab": {
          "base_uri": "https://localhost:8080/"
        },
        "id": "vbv479gcDu5S",
        "outputId": "c12f4acb-1377-42f3-9034-401c3c2efc71"
      },
      "outputs": [
        {
          "output_type": "stream",
          "name": "stdout",
          "text": [
            "Hello world\n"
          ]
        }
      ],
      "source": [
        "#creating a Python function named capitalize_string that takes a string and returns it with the first letter capitalized.\n",
        "def capitalize_string(string):\n",
        "    return string.capitalize()\n",
        "print(capitalize_string(\"hello world\"))\n"
      ]
    },
    {
      "cell_type": "code",
      "execution_count": null,
      "metadata": {
        "colab": {
          "base_uri": "https://localhost:8080/"
        },
        "id": "50T4ynPgEcU1",
        "outputId": "dff7ae3f-8307-4d66-f041-9aaffa541c37"
      },
      "outputs": [
        {
          "output_type": "stream",
          "name": "stdout",
          "text": [
            "1\n",
            "3\n",
            "5\n",
            "7\n",
            "9\n"
          ]
        }
      ],
      "source": [
        "#creating  a Python script that creates a list of the first 5 odd numbers.\n",
        "odd_numbers = [1, 3, 5, 7, 9]\n",
        "for number in odd_numbers:\n",
        "    print(number)\n"
      ]
    },
    {
      "cell_type": "code",
      "execution_count": null,
      "metadata": {
        "colab": {
          "base_uri": "https://localhost:8080/"
        },
        "id": "vRa-GXdfE6S9",
        "outputId": "2f0b04a9-04af-4047-acb7-8bc96663ab2d"
      },
      "outputs": [
        {
          "output_type": "stream",
          "name": "stdout",
          "text": [
            "3\n"
          ]
        }
      ],
      "source": [
        "# creating a Python function named median_of_list that takes a list of numbers and returns their median.\n",
        "def median_of_list(list):\n",
        "  list.sort()\n",
        "  if len(list) % 2 == 0:\n",
        "    return (list[len(list) // 2] + list[len(list) // 2 - 1]) / 2\n",
        "  else:\n",
        "    return list[len(list) // 2]\n",
        "print(median_of_list([1, 2, 3, 4, 5]))\n",
        "\n"
      ]
    },
    {
      "cell_type": "code",
      "execution_count": null,
      "metadata": {
        "colab": {
          "base_uri": "https://localhost:8080/"
        },
        "id": "14yAgTNhGN5t",
        "outputId": "1eb80ee6-1b49-409b-f9ed-c2dcead4261e"
      },
      "outputs": [
        {
          "output_type": "stream",
          "name": "stdout",
          "text": [
            "4\n",
            "8\n",
            "12\n",
            "16\n",
            "20\n"
          ]
        }
      ],
      "source": [
        "# creating a Python script that prints all numbers from 1 to 20 that are divisible by 4.\n",
        "for i in range(1, 21):\n",
        "    if i % 4 == 0:\n",
        "        print(i)\n"
      ]
    },
    {
      "cell_type": "code",
      "execution_count": null,
      "metadata": {
        "colab": {
          "base_uri": "https://localhost:8080/"
        },
        "id": "SlXP_qtNHuoE",
        "outputId": "1f60ce56-a1d8-47bf-ff31-c5f5ffe7609b"
      },
      "outputs": [
        {
          "output_type": "stream",
          "name": "stdout",
          "text": [
            "6\n"
          ]
        }
      ],
      "source": [
        "# creating  a Python function named unique_count that takes a list and returns the number of unique elements.\n",
        "def unique_count(list):\n",
        "    return len(set(list))\n",
        "print(unique_count([1, 2, 3, 4, 5, 5, 6, 6]))"
      ]
    },
    {
      "cell_type": "code",
      "execution_count": null,
      "metadata": {
        "id": "hcCR44d0IIN0",
        "colab": {
          "base_uri": "https://localhost:8080/"
        },
        "outputId": "e045ff4f-ebca-49d5-a4c1-7057c0815d18"
      },
      "outputs": [
        {
          "output_type": "stream",
          "name": "stdout",
          "text": [
            "Enter a number: 25\n",
            "The number is odd.\n"
          ]
        }
      ],
      "source": [
        "# creating a Python script that takes a number from the user and print ts\n",
        "# whether it is even or odd.\n",
        "num = int(input(\"Enter a number: \"))\n",
        "if num % 2 == 0:\n",
        "    print(\"The number is even.\")\n",
        "else:\n",
        "    print(\"The number is odd.\")\n",
        "\n"
      ]
    },
    {
      "cell_type": "code",
      "execution_count": null,
      "metadata": {
        "id": "5xHVnIFIJL3S",
        "colab": {
          "base_uri": "https://localhost:8080/"
        },
        "outputId": "47d9bf8b-a9dc-47c3-9292-6ea0f611a848"
      },
      "outputs": [
        {
          "output_type": "stream",
          "name": "stdout",
          "text": [
            "False\n"
          ]
        }
      ],
      "source": [
        "#creating a Python function named is_sorted that takes a list of\n",
        "#numbers and returns True if it is sorted in ascending order, and False\n",
        "#otherwise.\n",
        "def is_sorted(list):\n",
        "    return list == sorted(list)\n",
        "print(is_sorted([1, 2, 4, 3, 5]))\n"
      ]
    },
    {
      "cell_type": "code",
      "execution_count": null,
      "metadata": {
        "id": "QLSscMzrJzmi",
        "colab": {
          "base_uri": "https://localhost:8080/"
        },
        "outputId": "43461ca4-96af-442c-9c07-df1303b2e59f"
      },
      "outputs": [
        {
          "output_type": "stream",
          "name": "stdout",
          "text": [
            "red\n"
          ]
        }
      ],
      "source": [
        "# creates a dictionary with keys ”fruit”,\n",
        "#”color”, and ”price”, and prints the value of ”color”\n",
        "fruit_dict = {\"fruit\": \"apple\", \"color\": \"red\", \"price\": 1.99}\n",
        "print(fruit_dict[\"color\"])"
      ]
    },
    {
      "cell_type": "code",
      "execution_count": null,
      "metadata": {
        "id": "TL099kOLKbtw",
        "colab": {
          "base_uri": "https://localhost:8080/"
        },
        "outputId": "d05ab176-fb76-4e46-d3a7-5baca9f2206c"
      },
      "outputs": [
        {
          "output_type": "stream",
          "name": "stdout",
          "text": [
            "8\n"
          ]
        }
      ],
      "source": [
        "# creating a Python function named power that takes a number and\n",
        "#an exponent and returns the number raised to that exponent.\n",
        "def power(num, exp):\n",
        "    return num ** exp\n",
        "print(power(2, 3))\n",
        "\n",
        "\n"
      ]
    },
    {
      "cell_type": "code",
      "execution_count": null,
      "metadata": {
        "id": "zT8XYCD6LJgQ",
        "colab": {
          "base_uri": "https://localhost:8080/"
        },
        "outputId": "b0d9db8a-8580-48ae-b825-cb26962251b9"
      },
      "outputs": [
        {
          "output_type": "stream",
          "name": "stdout",
          "text": [
            "1\n"
          ]
        }
      ],
      "source": [
        "#creating a a Python script that takes a list of numbers and prints\n",
        "#the smallest number in the list.\n",
        "def num_list(list):\n",
        "    return min(list)\n",
        "print(num_list([1, 2, 3, 4, 5]))\n"
      ]
    },
    {
      "cell_type": "code",
      "execution_count": null,
      "metadata": {
        "id": "CwJRn-jlLw1s",
        "colab": {
          "base_uri": "https://localhost:8080/"
        },
        "outputId": "95da6c22-533f-499c-86f0-f86e97dfd3a9"
      },
      "outputs": [
        {
          "output_type": "stream",
          "name": "stdout",
          "text": [
            "[1, 3, 5]\n"
          ]
        }
      ],
      "source": [
        "# creating a Python function named alternate_elements that\n",
        "#takes a list and returns a new list with every other element (starting\n",
        "#from the first).\n",
        "def alternate_elements(list):\n",
        "    return list[::2]\n",
        "print(alternate_elements([1, 2, 3, 4, 5]))"
      ]
    },
    {
      "cell_type": "code",
      "execution_count": null,
      "metadata": {
        "id": "cgIz9ASBMOyY",
        "colab": {
          "base_uri": "https://localhost:8080/"
        },
        "outputId": "f08d897c-02f6-4492-c920-be19a3051ace"
      },
      "outputs": [
        {
          "output_type": "stream",
          "name": "stdout",
          "text": [
            "Enter a string: 3\n",
            "The number of vowels in the string is: 0\n"
          ]
        }
      ],
      "source": [
        "# creating a Python script that takes a string from the user and\n",
        "#prints the number of vowels in it.\n",
        "s = input(\"Enter a string: \")\n",
        "count = 0\n",
        "for char in s:\n",
        "    if char in \"aeiouAEIOU\":\n",
        "        count += 1\n",
        "print(\"The number of vowels in the string is:\", count)\n"
      ]
    },
    {
      "cell_type": "code",
      "execution_count": null,
      "metadata": {
        "id": "oggc4hZSNbrR",
        "colab": {
          "base_uri": "https://localhost:8080/"
        },
        "outputId": "d9bbf5cb-1d9d-4e9d-b0e3-e373fffd138d"
      },
      "outputs": [
        {
          "output_type": "stream",
          "name": "stdout",
          "text": [
            "[1, 3, 5]\n"
          ]
        }
      ],
      "source": [
        "#creating a Python function named filter_positive that takes a\n",
        "#list of numbers and returns a new list containing only the positive numbers.\n",
        "def filter_positive(list):\n",
        "    return [x for x in list if x > 0]\n",
        "print(filter_positive([1, -2, 3, -4, 5]))\n",
        "\n"
      ]
    },
    {
      "cell_type": "code",
      "execution_count": null,
      "metadata": {
        "id": "CD2GMRbHOiqE",
        "colab": {
          "base_uri": "https://localhost:8080/"
        },
        "outputId": "ea4460c1-f10e-45f9-e552-057086f565bb"
      },
      "outputs": [
        {
          "output_type": "stream",
          "name": "stdout",
          "text": [
            "1\n",
            "4\n",
            "9\n",
            "16\n",
            "25\n"
          ]
        }
      ],
      "source": [
        "#creating a Python script that prints the first 5 square numbers.\n",
        "def print_squares():\n",
        "    for i in range(1, 6):\n",
        "        print(i ** 2)\n",
        "print_squares()"
      ]
    },
    {
      "cell_type": "code",
      "execution_count": null,
      "metadata": {
        "id": "mEHQouExPD48",
        "colab": {
          "base_uri": "https://localhost:8080/"
        },
        "outputId": "bc89e9bc-14d2-44da-d680-0161b5b6a575"
      },
      "outputs": [
        {
          "output_type": "stream",
          "name": "stdout",
          "text": [
            "[1, 5, 3, 2, 4]\n"
          ]
        }
      ],
      "source": [
        "#creating a Python function named shuffle_list that takes a list\n",
        "#and returns a new list with the elements in random order (you may use\n",
        "#the random module).\n",
        "import random\n",
        "def shuffle_list(list):\n",
        "    return random.sample(list, len(list))\n",
        "print(shuffle_list([1, 2, 3, 4, 5]))"
      ]
    },
    {
      "cell_type": "code",
      "execution_count": null,
      "metadata": {
        "id": "VjnxmO4xPtZa",
        "colab": {
          "base_uri": "https://localhost:8080/"
        },
        "outputId": "0977f485-f14a-45cf-bc62-2d69d5a5d618"
      },
      "outputs": [
        {
          "output_type": "stream",
          "name": "stdout",
          "text": [
            "Enter a string: apple\n",
            "apple\n"
          ]
        }
      ],
      "source": [
        "#creating  a Python script that takes a string and prints it in lowercase.\n",
        "s = input(\"Enter a string: \")\n",
        "print(s.lower())"
      ]
    },
    {
      "cell_type": "code",
      "execution_count": null,
      "metadata": {
        "id": "ZZI7fcmvP-ge",
        "colab": {
          "base_uri": "https://localhost:8080/"
        },
        "outputId": "0f73647c-6aa9-4516-df53-bae6373ce808"
      },
      "outputs": [
        {
          "output_type": "stream",
          "name": "stdout",
          "text": [
            "[1, 2]\n"
          ]
        }
      ],
      "source": [
        "# creating  a Python function named difference that takes two lists\n",
        "#and returns a new list containing elements that are in the first list but not\n",
        "#in the second.\n",
        "def difference(list1, list2):\n",
        "    return [x for x in list1 if x not in list2]\n",
        "print(difference([1, 2, 3, 4, 5], [3, 4, 5, 6, 7]))"
      ]
    },
    {
      "cell_type": "code",
      "execution_count": null,
      "metadata": {
        "id": "fLBe0z0YQlNB",
        "colab": {
          "base_uri": "https://localhost:8080/"
        },
        "outputId": "52ec40c4-88dd-4b2b-deb1-0a4976f8e860"
      },
      "outputs": [
        {
          "output_type": "stream",
          "name": "stdout",
          "text": [
            "[1, 8, 27, 64]\n"
          ]
        }
      ],
      "source": [
        "#creating a Python script that creates a list of cubes of numbers\n",
        "#from 1 to 4.\n",
        "def list_of_cubes():\n",
        "    return [x ** 3 for x in range(1, 5)]\n",
        "print(list_of_cubes())"
      ]
    },
    {
      "cell_type": "code",
      "execution_count": null,
      "metadata": {
        "id": "JyAKb58FRS7y",
        "colab": {
          "base_uri": "https://localhost:8080/"
        },
        "outputId": "3f85de28-a1c8-4844-f991-b969a8104c82"
      },
      "outputs": [
        {
          "output_type": "stream",
          "name": "stdout",
          "text": [
            "False\n"
          ]
        }
      ],
      "source": [
        "#creating a Python function named is_perfect_square that takes\n",
        "#a number and returns True if it is a perfect square, and False otherwise.\n",
        "def is_perfect_square(num):\n",
        "    return num ** 0.5 == int(num ** 0.5)\n",
        "print(is_perfect_square(4.5))"
      ]
    },
    {
      "cell_type": "code",
      "execution_count": null,
      "metadata": {
        "id": "Za2kvFtnRgBV",
        "colab": {
          "base_uri": "https://localhost:8080/"
        },
        "outputId": "1456dba9-c513-4d48-f0f9-cb270675a40c"
      },
      "outputs": [
        {
          "output_type": "stream",
          "name": "stdout",
          "text": [
            "9\n"
          ]
        }
      ],
      "source": [
        "#a Python script that takes a list of numbers and prints\n",
        "#the sum of the odd numbers in the list.\n",
        "def sum_of_odd_numbers(list):\n",
        "    return sum([x for x in list if x % 2 != 0])\n",
        "print(sum_of_odd_numbers([1, 2, 3, 4, 5]))"
      ]
    }
  ],
  "metadata": {
    "colab": {
      "provenance": [],
      "authorship_tag": "ABX9TyMVSkGL/igCqHQfwsFbYbsW",
      "include_colab_link": true
    },
    "kernelspec": {
      "display_name": "Python 3",
      "name": "python3"
    },
    "language_info": {
      "name": "python"
    }
  },
  "nbformat": 4,
  "nbformat_minor": 0
}